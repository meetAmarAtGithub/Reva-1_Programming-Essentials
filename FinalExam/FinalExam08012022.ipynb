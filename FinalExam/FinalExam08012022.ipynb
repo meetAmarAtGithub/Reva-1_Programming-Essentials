{
 "cells": [
  {
   "cell_type": "markdown",
   "metadata": {},
   "source": [
    "<h1>Q1.</h2>"
   ]
  },
  {
   "cell_type": "code",
   "execution_count": 24,
   "metadata": {},
   "outputs": [
    {
     "data": {
      "text/plain": [
       "['Python', 'is neat']"
      ]
     },
     "execution_count": 24,
     "metadata": {},
     "output_type": "execute_result"
    }
   ],
   "source": [
    "#let's create a empty list\n",
    "my_list = []\n",
    "\n",
    "\n",
    "#let's add some values\n",
    "my_list.append('Python')\n",
    "my_list.append('is ok')\n",
    "my_list.append('sometimes')\n",
    "\n",
    "#let's remove 'sometimes'\n",
    "my_list.remove('sometimes')\n",
    "\n",
    "#let's change the second item\n",
    "my_list[1] = 'is neat'\n",
    "\n",
    "\n",
    "my_list"
   ]
  },
  {
   "cell_type": "code",
   "execution_count": 10,
   "metadata": {},
   "outputs": [],
   "source": [
    "import unittest"
   ]
  },
  {
   "cell_type": "code",
   "execution_count": 65,
   "metadata": {},
   "outputs": [],
   "source": [
    "#let's verify that's  it is correct\n",
    "#assert my_list == ['Python','is neat']\n",
    "\n",
    "#class TestingList(unittest.TestCase):\n",
    "#    def setUp(self):\n",
    "#        self.expected = my_list\n",
    "#        self.result = ['Python','is neat']\n",
    "    \n",
    "#    def test_list(self):\n",
    "#        self.assertListEqual(self.expected, self.result,'test')\n",
    "    \n",
    "#if __name__ == '__main__':\n",
    "#    unittest.main()"
   ]
  },
  {
   "cell_type": "code",
   "execution_count": 67,
   "metadata": {},
   "outputs": [],
   "source": [
    "assert my_list == ['Python', 'is neat']"
   ]
  },
  {
   "attachments": {},
   "cell_type": "markdown",
   "metadata": {},
   "source": [
    "<h2>Q2.</h2>\n",
    "Create a new list without modifying the original one."
   ]
  },
  {
   "cell_type": "code",
   "execution_count": 27,
   "metadata": {},
   "outputs": [],
   "source": [
    "original = ['I','am','learning','hacking','in']"
   ]
  },
  {
   "cell_type": "code",
   "execution_count": 28,
   "metadata": {},
   "outputs": [
    {
     "data": {
      "text/plain": [
       "['I', 'am', 'learning', 'hacking', 'in']"
      ]
     },
     "execution_count": 28,
     "metadata": {},
     "output_type": "execute_result"
    }
   ],
   "source": [
    "#modified with out changing original list\n",
    "modified = list(original)\n",
    "modified"
   ]
  },
  {
   "cell_type": "code",
   "execution_count": 63,
   "metadata": {},
   "outputs": [],
   "source": [
    "#class TestingLists(unittest.TestCase):\n",
    "    \n",
    "#    def setUp(self):\n",
    "#        self.expected = original\n",
    "#        self.result = modified\n",
    "    \n",
    "#    def test_list(self):\n",
    "#        self.assertListEqual(self.expected, self.result, 'test')\n",
    "        \n",
    "#if __name__ == '__main__':\n",
    "#    unittest.main()"
   ]
  },
  {
   "cell_type": "code",
   "execution_count": 64,
   "metadata": {},
   "outputs": [],
   "source": [
    "assert original == modified"
   ]
  },
  {
   "cell_type": "markdown",
   "metadata": {},
   "source": [
    "<h1>Q4</h1>"
   ]
  },
  {
   "cell_type": "code",
   "execution_count": 40,
   "metadata": {},
   "outputs": [
    {
     "data": {
      "text/plain": [
       "['PYTHON', 'JOHN']"
      ]
     },
     "execution_count": 40,
     "metadata": {},
     "output_type": "execute_result"
    }
   ],
   "source": [
    "words = ['PYTHON', 'JOHN' ,'data', 'Reva', 'Science', '2022'] \n",
    "upper_case_words= []\n",
    "\n",
    "for word in words:\n",
    "    if word.isupper():\n",
    "        upper_case_words.append(word)\n",
    "        \n",
    "upper_case_words"
   ]
  },
  {
   "cell_type": "markdown",
   "metadata": {},
   "source": [
    "<h1>Q11</h1>"
   ]
  },
  {
   "cell_type": "code",
   "execution_count": 49,
   "metadata": {},
   "outputs": [],
   "source": [
    "from collections import namedtuple"
   ]
  },
  {
   "cell_type": "code",
   "execution_count": 50,
   "metadata": {},
   "outputs": [],
   "source": [
    "Car = namedtuple('Car', ['price', 'mileage', 'brand'])"
   ]
  },
  {
   "cell_type": "code",
   "execution_count": 51,
   "metadata": {},
   "outputs": [],
   "source": [
    "new_car = Car(25000, 2000, 'BMW')"
   ]
  },
  {
   "cell_type": "code",
   "execution_count": 56,
   "metadata": {},
   "outputs": [],
   "source": [
    "assert new_car.price == 25000"
   ]
  },
  {
   "cell_type": "code",
   "execution_count": 57,
   "metadata": {},
   "outputs": [],
   "source": [
    "assert new_car.mileage == 2000"
   ]
  },
  {
   "cell_type": "code",
   "execution_count": 58,
   "metadata": {},
   "outputs": [],
   "source": [
    "assert new_car.brand == 'BMW'"
   ]
  },
  {
   "cell_type": "code",
   "execution_count": 59,
   "metadata": {},
   "outputs": [],
   "source": [
    "assert isinstance(new_car, tuple)"
   ]
  },
  {
   "cell_type": "code",
   "execution_count": 60,
   "metadata": {},
   "outputs": [],
   "source": [
    "assert new_car[2]== 'BMW'"
   ]
  },
  {
   "cell_type": "code",
   "execution_count": 61,
   "metadata": {},
   "outputs": [
    {
     "name": "stdout",
     "output_type": "stream",
     "text": [
      "All Good\n"
     ]
    }
   ],
   "source": [
    "print('All Good')"
   ]
  },
  {
   "cell_type": "markdown",
   "metadata": {},
   "source": [
    "<h1>Q9</h1>"
   ]
  },
  {
   "cell_type": "code",
   "execution_count": 76,
   "metadata": {},
   "outputs": [],
   "source": [
    "class Dog:\n",
    "    def __init__(self, energy = 10):\n",
    "        self.cenergy = energy\n",
    "        \n",
    "    def bark(self):\n",
    "        self.cenergy -= 1\n",
    "    \n",
    "    def sleep(self):\n",
    "        self.cenergy += 2\n",
    "    \n",
    "    def get_energy(self):\n",
    "        return self.cenergy\n"
   ]
  },
  {
   "cell_type": "code",
   "execution_count": 78,
   "metadata": {},
   "outputs": [
    {
     "name": "stdout",
     "output_type": "stream",
     "text": [
      "10\n"
     ]
    }
   ],
   "source": [
    "doge = Dog()\n",
    "\n",
    "print(doge.get_energy())\n",
    "\n",
    "assert doge.get_energy() == 10"
   ]
  },
  {
   "cell_type": "code",
   "execution_count": 79,
   "metadata": {},
   "outputs": [
    {
     "name": "stdout",
     "output_type": "stream",
     "text": [
      "7\n"
     ]
    }
   ],
   "source": [
    "doge.bark()\n",
    "doge.bark()\n",
    "doge.bark()\n",
    "print(doge.get_energy())\n",
    "\n",
    "assert doge.get_energy() == 7"
   ]
  },
  {
   "cell_type": "code",
   "execution_count": 80,
   "metadata": {},
   "outputs": [
    {
     "name": "stdout",
     "output_type": "stream",
     "text": [
      "9\n"
     ]
    }
   ],
   "source": [
    "doge.sleep()\n",
    "print(doge.get_energy())\n",
    "\n",
    "assert doge.get_energy() == 9"
   ]
  },
  {
   "cell_type": "code",
   "execution_count": 84,
   "metadata": {},
   "outputs": [
    {
     "name": "stdout",
     "output_type": "stream",
     "text": [
      "10\n"
     ]
    }
   ],
   "source": [
    "another_doge = Dog()\n",
    "\n",
    "print(another_doge.get_energy())\n",
    "assert another_doge.get_energy() == 10"
   ]
  },
  {
   "cell_type": "markdown",
   "metadata": {},
   "source": [
    "<h1>Q3</h1>"
   ]
  },
  {
   "cell_type": "code",
   "execution_count": 92,
   "metadata": {},
   "outputs": [
    {
     "name": "stdout",
     "output_type": "stream",
     "text": [
      "[6, 12, 5, 6.2, 0, 14, 1, 0.9]\n"
     ]
    }
   ],
   "source": [
    "list1 = [6, 12, 5]\n",
    "list2 = [6.2, 0, 14, 1]\n",
    "list3 = [0.9]\n",
    "\n",
    "amar_list = list1 + list2 + list3\n",
    "print(amar_list)"
   ]
  },
  {
   "cell_type": "code",
   "execution_count": 94,
   "metadata": {},
   "outputs": [
    {
     "name": "stdout",
     "output_type": "stream",
     "text": [
      "[14, 12, 6.2, 6, 5, 1, 0.9, 0]\n"
     ]
    }
   ],
   "source": [
    "amar_list.sort(reverse=True)\n",
    "print(amar_list)"
   ]
  },
  {
   "cell_type": "code",
   "execution_count": 95,
   "metadata": {},
   "outputs": [],
   "source": [
    "assert amar_list == [14, 12, 6.2, 6, 5, 1, 0.9, 0]"
   ]
  },
  {
   "cell_type": "markdown",
   "metadata": {},
   "source": [
    "<h1>Q7</h1>"
   ]
  },
  {
   "cell_type": "markdown",
   "metadata": {},
   "source": [
    "Read the Supermarket.csv file and answer the following questions.\n",
    "•\tTop 5 product codes by Amount\n",
    "•\tTop 20 product codes by Receiving cash\n",
    "•\tTop 5 cashiers by received cash and bottom 5 cashiers by Amount\n",
    "•\tProduct codes for which Amount is greater than average Received cash after 10th May 2018\n",
    "•\tAverage daily sales Amount vs Maximum Daily Sales Amount.\n",
    "\n",
    "<code>\n",
    "    Product Code\tDate\tAmount\tReceived Cash\tCashier Name\n",
    "Product code\tDaily Date\tSales Amount\tCash Received\tAgent Name\n",
    "</code>"
   ]
  },
  {
   "cell_type": "code",
   "execution_count": 96,
   "metadata": {},
   "outputs": [],
   "source": [
    "import pandas as pd"
   ]
  },
  {
   "cell_type": "code",
   "execution_count": 132,
   "metadata": {},
   "outputs": [
    {
     "name": "stdout",
     "output_type": "stream",
     "text": [
      "<class 'pandas.core.frame.DataFrame'>\n",
      "RangeIndex: 84881 entries, 0 to 84880\n",
      "Data columns (total 5 columns):\n",
      " #   Column         Non-Null Count  Dtype  \n",
      "---  ------         --------------  -----  \n",
      " 0   ProductCode    84881 non-null  object \n",
      " 1   Date           84881 non-null  object \n",
      " 2   Amount         84881 non-null  float64\n",
      " 3   Received Cash  84881 non-null  float64\n",
      " 4   CashierName    84881 non-null  object \n",
      "dtypes: float64(2), object(3)\n",
      "memory usage: 3.2+ MB\n"
     ]
    }
   ],
   "source": [
    "df1 = pd.read_csv('SuperMarket.csv')\n",
    "df1.head()\n",
    "df1.info()"
   ]
  },
  {
   "cell_type": "code",
   "execution_count": 111,
   "metadata": {},
   "outputs": [
    {
     "data": {
      "text/plain": [
       "63647    LBVT18080025036\n",
       "67998    LBVT18010014892\n",
       "62403    LBVT18080024882\n",
       "40077    LBVT18030059056\n",
       "19598    LBVT18040056884\n",
       "Name: ProductCode, dtype: object"
      ]
     },
     "execution_count": 111,
     "metadata": {},
     "output_type": "execute_result"
    }
   ],
   "source": [
    "#Top 5 product codes by Amount \n",
    "#df1.sort_values('Amount', inplace=False, ascending=False)['ProductCode']\n",
    "df1.nlargest(5,'Amount')['ProductCode']"
   ]
  },
  {
   "cell_type": "code",
   "execution_count": 103,
   "metadata": {},
   "outputs": [
    {
     "data": {
      "text/plain": [
       "259      LBVT18020018893\n",
       "13511    LBVT18010006703\n",
       "37061    LBVT18030058152\n",
       "45922    LBVT18040060825\n",
       "21128    LBVT18030052980\n",
       "6361     LBVT18040055285\n",
       "49243    LBVT18010012166\n",
       "50676    LBVT18030060779\n",
       "64471    LBVT18010014525\n",
       "3649     LBVT18020020161\n",
       "29410    LBVT18020028100\n",
       "26200    LBVT18040058343\n",
       "24618    LBVT18010007878\n",
       "8543     LBVT18030049469\n",
       "14908    LBVT18020023748\n",
       "12240    LBVT18030050501\n",
       "75425    LBVT18030067525\n",
       "15422    LBVT18020023881\n",
       "23706    LBVT18030053779\n",
       "23703    LBVT18030053776\n",
       "Name: ProductCode, dtype: object"
      ]
     },
     "execution_count": 103,
     "metadata": {},
     "output_type": "execute_result"
    }
   ],
   "source": [
    "#Top 20 product codes by Receiving cash \n",
    "df1.nlargest(20,'Received Cash')['ProductCode']"
   ]
  },
  {
   "cell_type": "code",
   "execution_count": 118,
   "metadata": {},
   "outputs": [
    {
     "name": "stdout",
     "output_type": "stream",
     "text": [
      "['ALE HUERTA' 'JUAN MARTIN' 'ALE HUERTA' 'MAYTE' 'ALE HUERTA']\n",
      "['ALE HUERTA' 'JUAN MARTIN' 'JANET' 'ALE HUERTA' 'JUAN MARTIN']\n"
     ]
    }
   ],
   "source": [
    "#top 5 cashiers by received cash and bottom 5 cashiers by Amount\n",
    "nlargest5 = df1.nlargest(5,'Received Cash')['CashierName'].values\n",
    "nsmallest5 =df1.nsmallest(5,'Amount')['CashierName'].values\n",
    "print(nlargest5)\n",
    "print(nsmallest5)"
   ]
  },
  {
   "cell_type": "code",
   "execution_count": 131,
   "metadata": {},
   "outputs": [
    {
     "data": {
      "text/plain": [
       "6039     LBVT18020020754\n",
       "6040     LBVT18020020755\n",
       "6043     LBVT18020020758\n",
       "6045     LBVT18020020760\n",
       "6046     LBVT18020020761\n",
       "              ...       \n",
       "84829    LBVT18070002284\n",
       "84832    LBVT18070002287\n",
       "84859    LBVT18070002252\n",
       "84860    LBVT18070002253\n",
       "84861    LBVT18070002254\n",
       "Name: ProductCode, Length: 17927, dtype: object"
      ]
     },
     "execution_count": 131,
     "metadata": {},
     "output_type": "execute_result"
    }
   ],
   "source": [
    "#Product codes for which Amount is greater than average Received cash after 10th May 2018\n",
    "new_df = df1.loc[df1['Date']>'10-05-2018 00:00']\n",
    "new_avg = new_df['Amount'].mean()\n",
    "(new_df.loc[new_df['Amount'] >new_avg])['ProductCode']"
   ]
  },
  {
   "cell_type": "markdown",
   "metadata": {},
   "source": [
    "<h1>Q10</h1>"
   ]
  },
  {
   "cell_type": "markdown",
   "metadata": {},
   "source": [
    "Create your first test case.\n",
    "\n",
    "There is an implementation for the `get_divisible_by_five` function in the cell below. Your task is to create a test case for this function to verify that it works correctly.\n"
   ]
  },
  {
   "cell_type": "code",
   "execution_count": 134,
   "metadata": {},
   "outputs": [],
   "source": [
    "def get_divisible_by_five(numbers):\n",
    "    result=[]\n",
    "    for numb in numbers:\n",
    "        if numb % 5:\n",
    "            result.append(numb)\n",
    "    return result"
   ]
  },
  {
   "cell_type": "code",
   "execution_count": 138,
   "metadata": {},
   "outputs": [],
   "source": [
    "import unittest"
   ]
  },
  {
   "cell_type": "code",
   "execution_count": 141,
   "metadata": {},
   "outputs": [
    {
     "name": "stderr",
     "output_type": "stream",
     "text": [
      "E\n",
      "======================================================================\n",
      "ERROR: C:\\Users\\JAYA_USER\\AppData\\Roaming\\jupyter\\runtime\\kernel-bfcccf0d-b78a-49a1-a1a5-29fcccc46c72 (unittest.loader._FailedTest)\n",
      "----------------------------------------------------------------------\n",
      "AttributeError: module '__main__' has no attribute 'C:\\Users\\JAYA_USER\\AppData\\Roaming\\jupyter\\runtime\\kernel-bfcccf0d-b78a-49a1-a1a5-29fcccc46c72'\n",
      "\n",
      "----------------------------------------------------------------------\n",
      "Ran 1 test in 0.002s\n",
      "\n",
      "FAILED (errors=1)\n"
     ]
    },
    {
     "ename": "SystemExit",
     "evalue": "True",
     "output_type": "error",
     "traceback": [
      "An exception has occurred, use %tb to see the full traceback.\n",
      "\u001b[1;31mSystemExit\u001b[0m\u001b[1;31m:\u001b[0m True\n"
     ]
    },
    {
     "name": "stderr",
     "output_type": "stream",
     "text": [
      "C:\\Users\\JAYA_USER\\anaconda3\\lib\\site-packages\\IPython\\core\\interactiveshell.py:3426: UserWarning: To exit: use 'exit', 'quit', or Ctrl-D.\n",
      "  warn(\"To exit: use 'exit', 'quit', or Ctrl-D.\", stacklevel=1)\n"
     ]
    }
   ],
   "source": [
    "class TestingLists(unittest.TestCase):\n",
    "    def test_list(self):\n",
    "        result = get_divisible_by_five([5,20,16,19])\n",
    "        self.assertTrue(len(result) > 0)\n",
    "        \n",
    "if __name__ == '__main__':\n",
    "    unittest.main()"
   ]
  },
  {
   "cell_type": "markdown",
   "metadata": {},
   "source": [
    "<h1>Q12</h1>"
   ]
  },
  {
   "cell_type": "markdown",
   "metadata": {},
   "source": [
    "<code>\n",
    "On Games\n",
    "•\tWrite a function that accepts the name of a game and prints a statement such as, \"I like playing chess!\"\n",
    "•\tGive the argument a default value, such as `chess`.\n",
    "•\tCall your function at least three times. Make sure at least one of the calls includes an argument, and at least one call includes no arguments.\n",
    "</code>"
   ]
  },
  {
   "cell_type": "code",
   "execution_count": 154,
   "metadata": {},
   "outputs": [],
   "source": [
    "def print_game(name='chess'):\n",
    "    print (f'I like playing : {name} !')"
   ]
  },
  {
   "cell_type": "code",
   "execution_count": 158,
   "metadata": {},
   "outputs": [
    {
     "name": "stdout",
     "output_type": "stream",
     "text": [
      "I like playing : Football !\n"
     ]
    }
   ],
   "source": [
    "print_game('Football')"
   ]
  },
  {
   "cell_type": "code",
   "execution_count": 159,
   "metadata": {},
   "outputs": [
    {
     "name": "stdout",
     "output_type": "stream",
     "text": [
      "I like playing : Cricket !\n"
     ]
    }
   ],
   "source": [
    "print_game('Cricket')"
   ]
  },
  {
   "cell_type": "code",
   "execution_count": 160,
   "metadata": {},
   "outputs": [
    {
     "name": "stdout",
     "output_type": "stream",
     "text": [
      "I like playing : chess !\n"
     ]
    }
   ],
   "source": [
    "print_game()"
   ]
  },
  {
   "cell_type": "markdown",
   "metadata": {},
   "source": [
    "<h1>Q13</h1>"
   ]
  },
  {
   "cell_type": "markdown",
   "metadata": {},
   "source": [
    "<code>\n",
    "On Favourite Movie\n",
    "•\tWrite a function that accepts the name of a movie, and prints a statement such as, \"My favorite movie is The Princess Bride.\"\n",
    "•\tGive the argument a default value, such as `The Princess Bride`.\n",
    "•\tCall your function at least three times. Make sure at least one of the calls includes an argument, and at least one call includes no arguments.\n",
    "</code>"
   ]
  },
  {
   "cell_type": "code",
   "execution_count": 164,
   "metadata": {},
   "outputs": [],
   "source": [
    "def print_movie(name='The Princess Bride'):\n",
    "    print (f'My favorite movie is : {name} !')"
   ]
  },
  {
   "cell_type": "code",
   "execution_count": 165,
   "metadata": {},
   "outputs": [
    {
     "name": "stdout",
     "output_type": "stream",
     "text": [
      "My favorite movie is : Life of pie !\n"
     ]
    }
   ],
   "source": [
    "print_movie('Life of pie')"
   ]
  },
  {
   "cell_type": "code",
   "execution_count": 166,
   "metadata": {},
   "outputs": [
    {
     "name": "stdout",
     "output_type": "stream",
     "text": [
      "My favorite movie is : Jungle Book !\n"
     ]
    }
   ],
   "source": [
    "print_movie('Jungle Book')"
   ]
  },
  {
   "cell_type": "code",
   "execution_count": 167,
   "metadata": {},
   "outputs": [
    {
     "name": "stdout",
     "output_type": "stream",
     "text": [
      "My favorite movie is : The Princess Bride !\n"
     ]
    }
   ],
   "source": [
    "print_movie()"
   ]
  },
  {
   "cell_type": "markdown",
   "metadata": {},
   "source": [
    "<h1>Q14</h1>"
   ]
  },
  {
   "cell_type": "markdown",
   "metadata": {},
   "source": [
    "<code>\n",
    "Favorite Colors\n",
    "•\tWrite a function that takes two arguments, a person's name and their favorite color. The function should print out a statement such as \"Hillary's favorite color is blue.\"\n",
    "•\tCall your function three times, with a different person and color each time.\n",
    "</code>"
   ]
  },
  {
   "cell_type": "code",
   "execution_count": 185,
   "metadata": {},
   "outputs": [],
   "source": [
    "def Favorite_Color(color='Blue', name='Hillary'):\n",
    "    print(\"{} favorite color is : {}!\".format(name, color))"
   ]
  },
  {
   "cell_type": "code",
   "execution_count": 186,
   "metadata": {},
   "outputs": [
    {
     "name": "stdout",
     "output_type": "stream",
     "text": [
      "Amar favorite color is : Red!\n"
     ]
    }
   ],
   "source": [
    "Favorite_Color('Red','Amar')"
   ]
  },
  {
   "cell_type": "code",
   "execution_count": 187,
   "metadata": {},
   "outputs": [
    {
     "name": "stdout",
     "output_type": "stream",
     "text": [
      "John favorite color is : Green!\n"
     ]
    }
   ],
   "source": [
    "Favorite_Color('Green','John')"
   ]
  },
  {
   "cell_type": "code",
   "execution_count": 188,
   "metadata": {},
   "outputs": [
    {
     "name": "stdout",
     "output_type": "stream",
     "text": [
      "Hillary favorite color is : Blue!\n"
     ]
    }
   ],
   "source": [
    "Favorite_Color()"
   ]
  },
  {
   "cell_type": "code",
   "execution_count": null,
   "metadata": {},
   "outputs": [],
   "source": []
  }
 ],
 "metadata": {
  "kernelspec": {
   "display_name": "Python 3",
   "language": "python",
   "name": "python3"
  },
  "language_info": {
   "codemirror_mode": {
    "name": "ipython",
    "version": 3
   },
   "file_extension": ".py",
   "mimetype": "text/x-python",
   "name": "python",
   "nbconvert_exporter": "python",
   "pygments_lexer": "ipython3",
   "version": "3.8.5"
  }
 },
 "nbformat": 4,
 "nbformat_minor": 4
}
