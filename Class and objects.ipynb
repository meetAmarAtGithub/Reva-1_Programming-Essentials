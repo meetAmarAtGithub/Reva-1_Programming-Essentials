{
 "cells": [
  {
   "cell_type": "markdown",
   "metadata": {},
   "source": [
    "### Problem1"
   ]
  },
  {
   "cell_type": "markdown",
   "metadata": {},
   "source": [
    "Fill in the Lines class methods to accept co-ordinate as a pair of tuples and return the slope and distance of the line."
   ]
  },
  {
   "cell_type": "code",
   "execution_count": 44,
   "metadata": {},
   "outputs": [],
   "source": [
    "from math import sqrt\n",
    "\n",
    "class Line:\n",
    "    \n",
    "    def __init__(self,coordinates1, coordinates2):\n",
    "        #calculate distnce formula\n",
    "        self.coor1 = coordinates1\n",
    "        self.coor2 = coordinates2\n",
    "       \n",
    "    \n",
    "    def distance(self):\n",
    "         return sqrt((self.coor2[0]  - self.coor1[0])**2 + (self.coor2[1]  - self.coor1[1])**2)\n",
    "    \n",
    "    def slope(self):\n",
    "        print(self.coor2[0]  - self.coor1[0])\n",
    "        print(self.coor2[1]  - self.coor1[1])\n",
    "        return ((self.coor2[0]  - self.coor1[0])  / (self.coor2[1]  - self.coor1[1]))"
   ]
  },
  {
   "cell_type": "code",
   "execution_count": 51,
   "metadata": {},
   "outputs": [],
   "source": [
    "#Expample output\n",
    "\n",
    "coordinates1 = (3,2)\n",
    "coordinates2 = (8,10)\n",
    "\n",
    "li= Line(coordinates1,coordinates2)"
   ]
  },
  {
   "cell_type": "code",
   "execution_count": 52,
   "metadata": {},
   "outputs": [
    {
     "name": "stdout",
     "output_type": "stream",
     "text": [
      "9.433981132056603\n"
     ]
    }
   ],
   "source": [
    "print(li.distance())"
   ]
  },
  {
   "cell_type": "code",
   "execution_count": 53,
   "metadata": {},
   "outputs": [
    {
     "name": "stdout",
     "output_type": "stream",
     "text": [
      "5\n",
      "8\n",
      "0.625\n"
     ]
    }
   ],
   "source": [
    "print(li.slope())"
   ]
  },
  {
   "cell_type": "markdown",
   "metadata": {},
   "source": [
    "### Problem 2"
   ]
  },
  {
   "cell_type": "markdown",
   "metadata": {},
   "source": [
    "Fill in the Class"
   ]
  },
  {
   "cell_type": "code",
   "execution_count": 96,
   "metadata": {},
   "outputs": [],
   "source": [
    "import math\n",
    "\n",
    "class Cylinder:  \n",
    "    pi= 3.14\n",
    "    def __init__(self, height=1, radius=1):\n",
    "        self.cHeight = height\n",
    "        self.cRadius = radius\n",
    "        self.cPi= math.pi\n",
    "    \n",
    "    def volume(self):\n",
    "        #return (Cylinder.pi * (self.cRadius**2) * self.cHeight)\n",
    "        return (self.cPi * (self.cRadius**2) * self.cHeight)\n",
    "    \n",
    "    def surface_area(self):\n",
    "        #return (2*(Cylinder.pi*(self.cRadius**2))) + (2*(Cylinder.pi*(self.cRadius*self.cHeight)))\n",
    "        return (2*(self.cPi*(self.cRadius**2))) + (2*(self.cPi*(self.cRadius*self.cHeight)))"
   ]
  },
  {
   "cell_type": "code",
   "execution_count": 97,
   "metadata": {},
   "outputs": [],
   "source": [
    "## Example output\n",
    "c = Cylinder(2,3)"
   ]
  },
  {
   "cell_type": "code",
   "execution_count": 98,
   "metadata": {},
   "outputs": [
    {
     "data": {
      "text/plain": [
       "56.548667764616276"
      ]
     },
     "execution_count": 98,
     "metadata": {},
     "output_type": "execute_result"
    }
   ],
   "source": [
    "c.volume()"
   ]
  },
  {
   "cell_type": "code",
   "execution_count": 99,
   "metadata": {},
   "outputs": [
    {
     "data": {
      "text/plain": [
       "94.24777960769379"
      ]
     },
     "execution_count": 99,
     "metadata": {},
     "output_type": "execute_result"
    }
   ],
   "source": [
    "c.surface_area()"
   ]
  },
  {
   "cell_type": "markdown",
   "metadata": {},
   "source": [
    "### Object Oriented Programming Challenge"
   ]
  },
  {
   "cell_type": "markdown",
   "metadata": {},
   "source": [
    "For this challenge, craete a bank account class that has two attributes:\n",
    "    \n",
    "    Onwer\n",
    "    Blance\n",
    "and two methods:\n",
    "    \n",
    "    deposit\n",
    "    withdraw\n",
    "    \n",
    "As an added requirement, withdrawls may notexceed the availablebalance.\n",
    "Inititiate your class, make severaldeposits and withdrawls, and testt to make sure the account can't be overdrawn."
   ]
  },
  {
   "cell_type": "code",
   "execution_count": 100,
   "metadata": {},
   "outputs": [],
   "source": [
    "class Account:\n",
    "    pass"
   ]
  },
  {
   "cell_type": "code",
   "execution_count": 141,
   "metadata": {},
   "outputs": [],
   "source": [
    "class Account:\n",
    "    def __init__(self, owner, balance=0):\n",
    "        self.cOwner = owner\n",
    "        self.cBalance = balance\n",
    "    \n",
    "    def __str__(self):\n",
    "        return f'Account owner: {self.cOwner} \\nAccount balance: ${self.cBalance}'\n",
    "\n",
    "    def deposit(self, amount):\n",
    "        self.cBalance += amount\n",
    "        print('Total balance is - ', self.cBalance)\n",
    "\n",
    "    def withdrawl(self, amount):\n",
    "        if(amount > self.cBalance):\n",
    "            print('Withdrawl is greater than balance')\n",
    "        else:\n",
    "            self.cBalance -= amount\n",
    "            print('Withdrawl accepted, total balance is - ', self.cBalance)"
   ]
  },
  {
   "cell_type": "code",
   "execution_count": 142,
   "metadata": {},
   "outputs": [],
   "source": [
    "#1.Instantiate the class\n",
    "acct1 = Account('Jose',100) "
   ]
  },
  {
   "cell_type": "code",
   "execution_count": 143,
   "metadata": {},
   "outputs": [
    {
     "name": "stdout",
     "output_type": "stream",
     "text": [
      "Account owner: Jose \n",
      "Account balance: $100\n"
     ]
    }
   ],
   "source": [
    "#2.Print the object\n",
    "print(acct1)"
   ]
  },
  {
   "cell_type": "code",
   "execution_count": 144,
   "metadata": {},
   "outputs": [
    {
     "data": {
      "text/plain": [
       "'Jose'"
      ]
     },
     "execution_count": 144,
     "metadata": {},
     "output_type": "execute_result"
    }
   ],
   "source": [
    "#3. Show account owner attribute\n",
    "acct1.cOwner"
   ]
  },
  {
   "cell_type": "code",
   "execution_count": 145,
   "metadata": {},
   "outputs": [
    {
     "data": {
      "text/plain": [
       "100"
      ]
     },
     "execution_count": 145,
     "metadata": {},
     "output_type": "execute_result"
    }
   ],
   "source": [
    "#4. Show the account balance\n",
    "acct1.cBalance"
   ]
  },
  {
   "cell_type": "code",
   "execution_count": 146,
   "metadata": {},
   "outputs": [
    {
     "name": "stdout",
     "output_type": "stream",
     "text": [
      "Total balance is -  150\n"
     ]
    }
   ],
   "source": [
    "#5.Make a series of deposits and withdrawls\n",
    "acct1.deposit(50)"
   ]
  },
  {
   "cell_type": "code",
   "execution_count": 147,
   "metadata": {},
   "outputs": [
    {
     "name": "stdout",
     "output_type": "stream",
     "text": [
      "Withdrawl accepted, total balance is -  75\n"
     ]
    }
   ],
   "source": [
    "acct1.withdrawl(75)"
   ]
  },
  {
   "cell_type": "code",
   "execution_count": null,
   "metadata": {},
   "outputs": [],
   "source": []
  }
 ],
 "metadata": {
  "kernelspec": {
   "display_name": "Python 3 (ipykernel)",
   "language": "python",
   "name": "python3"
  },
  "language_info": {
   "codemirror_mode": {
    "name": "ipython",
    "version": 3
   },
   "file_extension": ".py",
   "mimetype": "text/x-python",
   "name": "python",
   "nbconvert_exporter": "python",
   "pygments_lexer": "ipython3",
   "version": "3.8.5"
  }
 },
 "nbformat": 4,
 "nbformat_minor": 4
}
